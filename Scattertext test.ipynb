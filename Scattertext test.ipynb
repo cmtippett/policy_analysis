{
 "cells": [
  {
   "cell_type": "code",
   "execution_count": 91,
   "metadata": {
    "scrolled": false
   },
   "outputs": [
    {
     "data": {
      "text/html": [
       "<style>.container {width:98% !important;} </style"
      ],
      "text/plain": [
       "<IPython.core.display.HTML object>"
      ]
     },
     "metadata": {},
     "output_type": "display_data"
    }
   ],
   "source": [
    "import scattertext as st\n",
    "import re, io\n",
    "import spacy\n",
    "from pprint import pprint\n",
    "import pandas as pd\n",
    "import numpy as np\n",
    "from scipy.stats import rankdata, hmean, norm\n",
    "import os, pkgutil, json, urllib\n",
    "from urllib.request import urlopen\n",
    "from IPython.display import IFrame\n",
    "from IPython.core.display import display, HTML\n",
    "from scattertext import CorpusFromPandas, produce_scattertext_explorer, SampleCorpora\n",
    "display(HTML(\"<style>.container {width:98% !important;} </style\"))"
   ]
  },
  {
   "cell_type": "code",
   "execution_count": 108,
   "metadata": {
    "scrolled": false
   },
   "outputs": [],
   "source": [
    "df = pd.read_csv('test.csv', encoding = \"ISO-8859-1\")"
   ]
  },
  {
   "cell_type": "code",
   "execution_count": 109,
   "metadata": {},
   "outputs": [
    {
     "data": {
      "text/html": [
       "<div>\n",
       "<style scoped>\n",
       "    .dataframe tbody tr th:only-of-type {\n",
       "        vertical-align: middle;\n",
       "    }\n",
       "\n",
       "    .dataframe tbody tr th {\n",
       "        vertical-align: top;\n",
       "    }\n",
       "\n",
       "    .dataframe thead th {\n",
       "        text-align: right;\n",
       "    }\n",
       "</style>\n",
       "<table border=\"1\" class=\"dataframe\">\n",
       "  <thead>\n",
       "    <tr style=\"text-align: right;\">\n",
       "      <th></th>\n",
       "      <th>text</th>\n",
       "      <th>country</th>\n",
       "    </tr>\n",
       "  </thead>\n",
       "  <tbody>\n",
       "    <tr>\n",
       "      <th>0</th>\n",
       "      <td>Since its founding a century and a half ago, C...</td>\n",
       "      <td>Can</td>\n",
       "    </tr>\n",
       "    <tr>\n",
       "      <th>1</th>\n",
       "      <td>We will set Grand Challenges to put the United...</td>\n",
       "      <td>UK</td>\n",
       "    </tr>\n",
       "  </tbody>\n",
       "</table>\n",
       "</div>"
      ],
      "text/plain": [
       "                                                text country\n",
       "0  Since its founding a century and a half ago, C...     Can\n",
       "1  We will set Grand Challenges to put the United...      UK"
      ]
     },
     "execution_count": 109,
     "metadata": {},
     "output_type": "execute_result"
    }
   ],
   "source": [
    "df.head()"
   ]
  },
  {
   "cell_type": "code",
   "execution_count": 113,
   "metadata": {
    "scrolled": true
   },
   "outputs": [
    {
     "data": {
      "text/plain": [
       "text       0\n",
       "country    0\n",
       "dtype: int64"
      ]
     },
     "execution_count": 113,
     "metadata": {},
     "output_type": "execute_result"
    }
   ],
   "source": [
    "df.isnull().sum()"
   ]
  },
  {
   "cell_type": "code",
   "execution_count": 114,
   "metadata": {},
   "outputs": [],
   "source": [
    "nlp = spacy.load('en')\n",
    "corpus = st.CorpusFromPandas(df,\n",
    "                            category_col='country',\n",
    "                            text_col='text',\n",
    "                            nlp=nlp).build()"
   ]
  },
  {
   "cell_type": "code",
   "execution_count": 118,
   "metadata": {},
   "outputs": [
    {
     "data": {
      "text/plain": [
       "302354"
      ]
     },
     "execution_count": 118,
     "metadata": {},
     "output_type": "execute_result"
    }
   ],
   "source": [
    "html = st.produce_scattertext_explorer(corpus, \n",
    "                                     category='Can',\n",
    "                                     category_name='Canada',\n",
    "                                       not_category_name='UK',\n",
    "                                     width_in_pixels=1000)\n",
    "open(\"PolicyVis.html\", 'wb').write(html.encode('utf-8'))"
   ]
  },
  {
   "cell_type": "code",
   "execution_count": 122,
   "metadata": {},
   "outputs": [
    {
     "name": "stderr",
     "output_type": "stream",
     "text": [
      "b'Skipping line 511: expected 3 fields, saw 13\\nSkipping line 562: expected 3 fields, saw 6\\nSkipping line 827: expected 3 fields, saw 4\\nSkipping line 977: expected 3 fields, saw 8\\nSkipping line 1123: expected 3 fields, saw 4\\nSkipping line 1199: expected 3 fields, saw 6\\nSkipping line 1239: expected 3 fields, saw 10\\nSkipping line 1240: expected 3 fields, saw 10\\nSkipping line 5826: expected 3 fields, saw 4\\nSkipping line 5948: expected 3 fields, saw 6\\nSkipping line 8194: expected 3 fields, saw 5\\nSkipping line 9261: expected 3 fields, saw 7\\nSkipping line 9578: expected 3 fields, saw 7\\n'\n"
     ]
    }
   ],
   "source": [
    "# preprocessing UK and Canada csv files\n",
    "# remove missing data, punctuation, ensure that everything is in two columns\n",
    "\n",
    "can_df = pd.read_table('Can.txt', error_bad_lines=False)"
   ]
  },
  {
   "cell_type": "code",
   "execution_count": 123,
   "metadata": {},
   "outputs": [
    {
     "data": {
      "text/html": [
       "<div>\n",
       "<style scoped>\n",
       "    .dataframe tbody tr th:only-of-type {\n",
       "        vertical-align: middle;\n",
       "    }\n",
       "\n",
       "    .dataframe tbody tr th {\n",
       "        vertical-align: top;\n",
       "    }\n",
       "\n",
       "    .dataframe thead th {\n",
       "        text-align: right;\n",
       "    }\n",
       "</style>\n",
       "<table border=\"1\" class=\"dataframe\">\n",
       "  <thead>\n",
       "    <tr style=\"text-align: right;\">\n",
       "      <th></th>\n",
       "      <th></th>\n",
       "      <th>Unnamed: 1</th>\n",
       "      <th></th>\n",
       "    </tr>\n",
       "  </thead>\n",
       "  <tbody>\n",
       "    <tr>\n",
       "      <th>0</th>\n",
       "      <td>Tabled in the House of Commons</td>\n",
       "      <td>NaN</td>\n",
       "      <td>NaN</td>\n",
       "    </tr>\n",
       "    <tr>\n",
       "      <th>1</th>\n",
       "      <td>by the Honourable William Francis Morneau, P.C...</td>\n",
       "      <td>NaN</td>\n",
       "      <td>NaN</td>\n",
       "    </tr>\n",
       "    <tr>\n",
       "      <th>2</th>\n",
       "      <td>March 22, 2017</td>\n",
       "      <td>NaN</td>\n",
       "      <td>NaN</td>\n",
       "    </tr>\n",
       "    <tr>\n",
       "      <th>3</th>\n",
       "      <td>©Her Majesty the Queen in Right of Canada (201...</td>\n",
       "      <td>NaN</td>\n",
       "      <td>NaN</td>\n",
       "    </tr>\n",
       "    <tr>\n",
       "      <th>4</th>\n",
       "      <td>All requests for permission to reproduce this ...</td>\n",
       "      <td>NaN</td>\n",
       "      <td>NaN</td>\n",
       "    </tr>\n",
       "  </tbody>\n",
       "</table>\n",
       "</div>"
      ],
      "text/plain": [
       "                                                     Unnamed: 1     \n",
       "0                     Tabled in the House of Commons        NaN  NaN\n",
       "1  by the Honourable William Francis Morneau, P.C...        NaN  NaN\n",
       "2                                     March 22, 2017        NaN  NaN\n",
       "3  ©Her Majesty the Queen in Right of Canada (201...        NaN  NaN\n",
       "4  All requests for permission to reproduce this ...        NaN  NaN"
      ]
     },
     "execution_count": 123,
     "metadata": {},
     "output_type": "execute_result"
    }
   ],
   "source": [
    "can_df.head()"
   ]
  },
  {
   "cell_type": "code",
   "execution_count": 127,
   "metadata": {},
   "outputs": [
    {
     "data": {
      "text/plain": [
       "              7900\n",
       "Unnamed: 1     596\n",
       "               307\n",
       "dtype: int64"
      ]
     },
     "execution_count": 127,
     "metadata": {},
     "output_type": "execute_result"
    }
   ],
   "source": [
    "can_df.notnull().sum()"
   ]
  },
  {
   "cell_type": "code",
   "execution_count": 128,
   "metadata": {},
   "outputs": [
    {
     "data": {
      "text/plain": [
       "               303\n",
       "Unnamed: 1    7607\n",
       "              7896\n",
       "dtype: int64"
      ]
     },
     "execution_count": 128,
     "metadata": {},
     "output_type": "execute_result"
    }
   ],
   "source": [
    "can_df.isnull().sum()"
   ]
  },
  {
   "cell_type": "code",
   "execution_count": 125,
   "metadata": {
    "scrolled": true
   },
   "outputs": [
    {
     "data": {
      "text/plain": [
       "(8203, 3)"
      ]
     },
     "execution_count": 125,
     "metadata": {},
     "output_type": "execute_result"
    }
   ],
   "source": [
    "can_df.shape"
   ]
  },
  {
   "cell_type": "code",
   "execution_count": 130,
   "metadata": {},
   "outputs": [
    {
     "data": {
      "text/plain": [
       "Index(['       ', 'Unnamed: 1', '   '], dtype='object')"
      ]
     },
     "execution_count": 130,
     "metadata": {},
     "output_type": "execute_result"
    }
   ],
   "source": [
    "can_df.columns"
   ]
  },
  {
   "cell_type": "code",
   "execution_count": 132,
   "metadata": {},
   "outputs": [],
   "source": [
    "can_df.columns = ['text', 'country', 'other']"
   ]
  },
  {
   "cell_type": "code",
   "execution_count": 133,
   "metadata": {},
   "outputs": [
    {
     "data": {
      "text/plain": [
       "Index(['text', 'country', 'other'], dtype='object')"
      ]
     },
     "execution_count": 133,
     "metadata": {},
     "output_type": "execute_result"
    }
   ],
   "source": [
    "can_df.columns"
   ]
  },
  {
   "cell_type": "code",
   "execution_count": 134,
   "metadata": {},
   "outputs": [],
   "source": [
    "can_df2 = can_df"
   ]
  },
  {
   "cell_type": "code",
   "execution_count": 139,
   "metadata": {
    "collapsed": true
   },
   "outputs": [
    {
     "data": {
      "text/plain": [
       "•                                      303\n",
       "0                                       10\n",
       "15                                       6\n",
       "127                                      4\n",
       "191                                      4\n",
       "170                                      3\n",
       "71                                       3\n",
       "130                                      3\n",
       "65                                       3\n",
       "100                                      3\n",
       "72                                       3\n",
       "179                                      3\n",
       "190                                      3\n",
       "128                                      3\n",
       "85                                       3\n",
       "142                                      3\n",
       "119                                      3\n",
       "189                                      3\n",
       "93                                       3\n",
       "66                                       3\n",
       "161                                      2\n",
       "187                                      2\n",
       "Projected                                2\n",
       "59                                       2\n",
       "211                                      2\n",
       "9                                        2\n",
       "115                                      2\n",
       "67                                       2\n",
       "217                                      2\n",
       "212                                      2\n",
       "                                      ... \n",
       "8                                        1\n",
       "173                                      1\n",
       "19                                       1\n",
       "2.3                                      1\n",
       "53                                       1\n",
       "198                                      1\n",
       "129                                      1\n",
       "221                                      1\n",
       "241                                      1\n",
       "210                                      1\n",
       "Single parents                           1\n",
       "76                                       1\n",
       "2015                                     1\n",
       "81                                       1\n",
       "166                                      1\n",
       "liquid 10                                1\n",
       "24                                       1\n",
       "218                                      1\n",
       "180                                      1\n",
       "107                                      1\n",
       "137                                      1\n",
       "44                                       1\n",
       "207                                      1\n",
       "222                                      1\n",
       "Median wage income                       1\n",
       "163                                      1\n",
       "41                                       1\n",
       "233                                      1\n",
       "Less sensitive to the exchange rate      1\n",
       "82                                       1\n",
       "Name: country, Length: 186, dtype: int64"
      ]
     },
     "execution_count": 139,
     "metadata": {},
     "output_type": "execute_result"
    }
   ],
   "source": [
    "can_df2['country'].value_counts()\n",
    "#303 of the 596 non-null values in country are bullets - can get rid of all these "
   ]
  },
  {
   "cell_type": "code",
   "execution_count": 140,
   "metadata": {
    "collapsed": true
   },
   "outputs": [
    {
     "data": {
      "text/plain": [
       "Double the number of high-growth companies in Canada, particularly in the digital, clean technology and health technology sectors, from 14,000 to 28,000 by 2025.                                                                                                                                                                                                                                                                                                                                                                                                                               2\n",
       "Expanding e-prescribing and virtual care initiatives, supporting the continued adoption and use of electronic medical records, helping patients to access their own health records electronically, and better linking electronic health record systems to improve access by all providers and institutions through an investment of $300 million over five years, starting in 2017–18, for Canada Health Infoway.                                                                                                                                                                               1\n",
       "Eliminate the use of billed-basis accounting for income tax purposes by a limited group of professionals in order to avoid giving these professionals a deferral of tax that is not available to other taxpayers.                                                                                                                                                                                                                                                                                                                                                                               1\n",
       "Initiating annual summits with the Prime Minister, key Ministers and First Nations, Inuit and Métis leadership to establish policy priorities as part of new permanent bilateral mechanisms with these groups.                                                                                                                                                                                                                                                                                                                                                                                  1\n",
       "Increase domestic and international scientific collaboration on oil spill response, and invest in research to support new and refined oceanographic oil spill trajectory models.                                                                                                                                                                                                                                                                                                                                                                                                                1\n",
       "Women are more likely than men to experience the most severe forms of self-reported spousal victimization, despite having similar prevalence rates as men.                                                                                                                                                                                                                                                                                                                                                                                                                                      1\n",
       "Women admitted to shelters and transition homes cited abuse as their primary reason for seeking shelter, with the most common abuser being an intimate partner.                                                                                                                                                                                                                                                                                                                                                                                                                                 1\n",
       "7 per cent of the world’s renewable freshwater.                                                                                                                                                                                                                                                                                                                                                                                                                                                                                                                                                 1\n",
       "Canadian Federation of Independent Business,                                                                                                                                                                                                                                                                                                                                                                                                                                                                                                                                                    1\n",
       "A modernized deposit insurance framework that continues to protect the deposits of Canadians and promote financial stability.                                                                                                                                                                                                                                                                                                                                                                                                                                                                   1\n",
       "Encourage greater participation of Indigenous groups in environmental monitoring and spill response.                                                                                                                                                                                                                                                                                                                                                                                                                                                                                            1\n",
       "Launching engagement on the design of a National Council for Reconciliation.                                                                                                                                                                                                                                                                                                                                                                                                                                                                                                                    1\n",
       "The Poplar Hill Elementary School in Poplar Hill, Ontario.                                                                                                                                                                                                                                                                                                                                                                                                                                                                                                                                      1\n",
       "$39.9 million to Statistics Canada to develop and implement a new Housing Statistics Framework, which will be a nationwide database of all properties in Canada, providing information on purchases and sales, the degree of                                                                                                                                                                                                                                                                                                                                                                    1\n",
       "1st in the OECD with the most highly educated workforce.                                                                                                                                                                                                                                                                                                                                                                                                                                                                                                                                        1\n",
       "Increase the number of Canadians participating in work-integrated learning.                                                                                                                                                                                                                                                                                                                                                                                                                                                                                                                     1\n",
       "Clarify the treatment of, and protections for, eligible financial contracts— such as derivatives—in a bank resolution process.                                                                                                                                                                                                                                                                                                                                                                                                                                                                  1\n",
       "A sustained 100-basis-point increase in all interest rates.                                                                                                                                                                                                                                                                                                                                                                                                                                                                                                                                     1\n",
       "Underreporting is common for survivors of sexual assault. Available data shows that rates of sexual assaults have remained constant; however, there could be an underestimation of the problem.                                                                                                                                                                                                                                                                                                                                                                                                 1\n",
       "Supporting Canadian innovation by extending trade rules to cover goods and services in all emerging sectors of the economy.                                                                                                                                                                                                                                                                                                                                                                                                                                                                     1\n",
       "Equity investments to increase capital in a firm without increasing that firm’s overall debt load. Budget 2017 proposes to provide additional capital to BDC for clean technology activities. This new capital, along with existing capital under management at BDC and EDC, will enable the organizations to offer a combined additional $380 million, to be deployed over three years, in equity financing to support clean technology firms looking to scale.                                                                                                                                1\n",
       "The Pan-Canadian Framework on Clean Growth and Climate Change, an agreement developed with the provinces, territories and Indigenous partners that will build a strong, clean economy; foster innovation; create new,                                                                                                                                                                                                                                                                                                                                                                           1\n",
       "Improved mental wellness for First Nations and Inuit, particularly youth.                                                                                                                                                                                                                                                                                                                                                                                                                                                                                                                       1\n",
       "Support research, development, demonstration and adoption of clean technologies.                                                                                                                                                                                                                                                                                                                                                                                                                                                                                                                1\n",
       "Nearly 2,500 new green jobs that help young Canadians learn about their natural environment and contribute to economic growth in the environmental sectors.                                                                                                                                                                                                                                                                                                                                                                                                                                     1\n",
       "Increased funding to support the preservation and revitalization of Indigenous languages.                                                                                                                                                                                                                                                                                                                                                                                                                                                                                                       1\n",
       "A clean technology stream, supported by up to $75 million over two years, starting in 2017–18, to address challenges such as helping Canada’s rural and remote communities reduce their reliance on diesel as a power source.                                                                                                                                                                                                                                                                                                                                                                   1\n",
       "Major oil- producing provinces                                                                                                                                                                                                                                                                                                                                                                                                                                                                                                                                                                  1\n",
       "Modify the tax treatment of successful oil and gas exploratory drilling. The success rates for exploratory drilling have increased substantially since the 1990s and, in a majority of cases, discovery wells now lead to production, which makes the well an asset of enduring value. Consistent with the usual treatment of enduring assets, expenses associated with oil and gas discovery wells will be treated as Canadian development expenses, which are deducted gradually over time, rather than as immediately deductible Canadian exploration expenses, unless and until they are    1\n",
       "Help Canada meet its 2030 greenhouse gas emissions reduction target.                                                                                                                                                                                                                                                                                                                                                                                                                                                                                                                            1\n",
       "                                                                                                                                                                                                                                                                                                                                                                                                                                                                                                                                                                                               ..\n",
       "Help veterans transition from military service to civilian life.                                                                                                                                                                                                                                                                                                                                                                                                                                                                                                                                1\n",
       "TD Bank Financial Group, and                                                                                                                                                                                                                                                                                                                                                                                                                                                                                                                                                                    1\n",
       "Increase the availability of late-stage venture capital for growing firms.                                                                                                                                                                                                                                                                                                                                                                                                                                                                                                                      1\n",
       "Made post-secondary education more affordable. In 2016, the Government increased Canada Student Grants by up to $1,000 per year for post-secondary students from low- and middle-income families, putting more money in the pockets of over 360,000 full-time and part-time students each year.                                                                                                                                                                                                                                                                                                 1\n",
       "Raised income replacement under the Earnings Loss Benefit to 90 per cent of pre-release salary for veterans who require rehabilitation or cannot return                                                                                                                                                                                                                                                                                                                                                                                                                                         1\n",
       "Smart cities that are more livable, offer cleaner air and make it easier to get around.                                                                                                                                                                                                                                                                                                                                                                                                                                                                                                         1\n",
       "The Urban Indigenous Strategy, which will address challenges faced by at-risk members of the community, including Indigenous women.                                                                                                                                                                                                                                                                                                                                                                                                                                                             1\n",
       "$6,883 (in 2017) in respect of expenses for care of dependent relatives with infirmities (including persons with disabilities)—parents, brothers and sisters, adult children, and other specific relatives.                                                                                                                                                                                                                                                                                                                                                                                     1\n",
       "Update marine safety regulations to respond to more stringent international standards, while moving towards a more risk-based inspection regime.                                                                                                                                                                                                                                                                                                                                                                                                                                                1\n",
       "Assist Canadian innovators in finding a first customer to test and validate their technologies through the federal government.                                                                                                                                                                                                                                                                                                                                                                                                                                                                  1\n",
       "Reopen the Maritime Rescue Sub-Centre in St. John’s, Newfoundland and Labrador.                                                                                                                                                                                                                                                                                                                                                                                                                                                                                                                 1\n",
       "Addressing health data gaps, supporting improved decision-making and strengthening the reporting on health system performance through an investment of $53.0 million over five years, starting in 2017–18, with $15.0 million per year ongoing, for the Canadian Institute for Health Information.                                                                                                                                                                                                                                                                                              1\n",
       "Repeal the additional deduction available to corporations that donate medicine to eligible registered charities, given high compliance costs for charities and very low take-up. Corporations will continue to be able to deduct the fair market value of donated medicine.                                                                                                                                                                                                                                                                                                                     1\n",
       "Reinforce the Superintendent of Financial Institutions’ powers to set and administer the requirement for systemically important banks to maintain a minimum capacity to absorb losses in a resolution.                                                                                                                                                                                                                                                                                                                                                                                          1\n",
       "The Vocational Rehabilitation Program ($6.7 million over five years, starting in 2017–18, on a cash basis).                                                                                                                                                                                                                                                                                                                                                                                                                                                                                     1\n",
       "Siloam Mission: Winnipeg, Manitoba’s Siloam Mission provides meals and clothing, emergency overnight shelter, employment training and other supports to the city’s poor and homeless community. Over the last year, the Enabling Accessibility Fund helped support the construction of two exterior ramps for the Mission, as part of a larger-scale building retrofit. These ramps will allow people of all abilities to access the Mission’s programs                                                                                                                                         1\n",
       "Greater representation of women in positions of leadership in both the public and private sector.                                                                                                                                                                                                                                                                                                                                                                                                                                                                                               1\n",
       "A decrease in nominal GDP growth resulting solely from a one-year,                                                                                                                                                                                                                                                                                                                                                                                                                                                                                                                              1\n",
       "Increase post-secondary education participation rates, particularly for Indigenous Peoples and other underrepresented groups.                                                                                                                                                                                                                                                                                                                                                                                                                                                                   1\n",
       "Canada will have one of the most skilled, talented, creative and diverse workforces in the world, with more opportunities for all Canadians to get the education, skills and work experience they need to participate fully in the workforce of today, as they—and their children—prepare for the jobs                                                                                                                                                                                                                                                                                          1\n",
       "The Military Family Resource Centres ($34.3 million over five years, starting in 2017–18, on a cash basis).                                                                                                                                                                                                                                                                                                                                                                                                                                                                                     1\n",
       "Made Employment Insurance (EI) regular benefits easier to access for                                                                                                                                                                                                                                                                                                                                                                                                                                                                                                                            1\n",
       "Kenojuak Cultural Centre: To foster local artists and promote a broader appreciation for Inuit art, $4.5 million was invested through the Canada Cultural Spaces Fund to create the Kenojuak Cultural Centre, located in Cape Dorset, Nunavut. A multi- purpose facility, the Kenojuak Cultural Centre and Print Shop will be home to permanent and temporary exhibition galleries, purpose-built artists’ studios with facilities for lithography, etching, drawing and stone cutting, and an Elder/community gathering space.                                                                 1\n",
       "Help young Canadians get the skills and experience they need to kick-start their careers.                                                                                                                                                                                                                                                                                                                                                                                                                                                                                                       1\n",
       "Women living in poverty face increased risk of victimization due to isolation, economic dependence, and difficulties accessing support services including affordable housing.                                                                                                                                                                                                                                                                                                                                                                                                                   1\n",
       "National Bank Financial Markets,                                                                                                                                                                                                                                                                                                                                                                                                                                                                                                                                                                1\n",
       "Amend the definition of a taxi business under the Excise Tax Act to level the playing field and ensure that ride-sharing businesses are subject to the same GST/HST rules as taxis.                                                                                                                                                                                                                                                                                                                                                                                                             1\n",
       "Working capital to support investments in assets, inventory, talent and market expansion. Established companies may need working capital to fulfill a domestic or international contract. Budget 2017 proposes to provide additional capital to BDC for clean technology activities. This new capital, along with existing capital under management at BDC and EDC, will enable the organizations to offer a combined additional $570 million, to be deployed over three years, in working capital to support clean technology firms.                                                           1\n",
       "Working with five First Nations to successfully transition from the election provisions of the Indian Act to the First Nations Elections Act.                                                                                                                                                                                                                                                                                                                                                                                                                                                   1\n",
       "Improve access to global talent through accelerated processing times.                                                                                                                                                                                                                                                                                                                                                                                                                                                                                                                           1\n",
       "Name: other, Length: 306, dtype: int64"
      ]
     },
     "execution_count": 140,
     "metadata": {},
     "output_type": "execute_result"
    }
   ],
   "source": [
    "can_df2['other'].value_counts()\n",
    "#this text seems to be worth keeping "
   ]
  },
  {
   "cell_type": "code",
   "execution_count": 148,
   "metadata": {},
   "outputs": [],
   "source": [
    "can_df2['combined_txt'] = can_df2['text'] + can_df2['other']"
   ]
  },
  {
   "cell_type": "code",
   "execution_count": 149,
   "metadata": {},
   "outputs": [
    {
     "data": {
      "text/plain": [
       "text            7900\n",
       "country          596\n",
       "other            307\n",
       "combined_txt       4\n",
       "dtype: int64"
      ]
     },
     "execution_count": 149,
     "metadata": {},
     "output_type": "execute_result"
    }
   ],
   "source": [
    "can_df2.notnull().sum()"
   ]
  },
  {
   "cell_type": "code",
   "execution_count": 150,
   "metadata": {},
   "outputs": [
    {
     "data": {
      "text/plain": [
       "text            7900\n",
       "country          596\n",
       "other            307\n",
       "combined_txt       4\n",
       "dtype: int64"
      ]
     },
     "execution_count": 150,
     "metadata": {},
     "output_type": "execute_result"
    }
   ],
   "source": [
    "can_df.notnull().sum()"
   ]
  },
  {
   "cell_type": "code",
   "execution_count": 147,
   "metadata": {
    "collapsed": true
   },
   "outputs": [
    {
     "data": {
      "text/html": [
       "<div>\n",
       "<style scoped>\n",
       "    .dataframe tbody tr th:only-of-type {\n",
       "        vertical-align: middle;\n",
       "    }\n",
       "\n",
       "    .dataframe tbody tr th {\n",
       "        vertical-align: top;\n",
       "    }\n",
       "\n",
       "    .dataframe thead th {\n",
       "        text-align: right;\n",
       "    }\n",
       "</style>\n",
       "<table border=\"1\" class=\"dataframe\">\n",
       "  <thead>\n",
       "    <tr style=\"text-align: right;\">\n",
       "      <th></th>\n",
       "      <th>text</th>\n",
       "      <th>other</th>\n",
       "      <th>combined_txt</th>\n",
       "    </tr>\n",
       "  </thead>\n",
       "  <tbody>\n",
       "    <tr>\n",
       "      <th>0</th>\n",
       "      <td>Tabled in the House of Commons</td>\n",
       "      <td>NaN</td>\n",
       "      <td>NaN</td>\n",
       "    </tr>\n",
       "    <tr>\n",
       "      <th>1</th>\n",
       "      <td>by the Honourable William Francis Morneau, P.C...</td>\n",
       "      <td>NaN</td>\n",
       "      <td>NaN</td>\n",
       "    </tr>\n",
       "    <tr>\n",
       "      <th>2</th>\n",
       "      <td>March 22, 2017</td>\n",
       "      <td>NaN</td>\n",
       "      <td>NaN</td>\n",
       "    </tr>\n",
       "    <tr>\n",
       "      <th>3</th>\n",
       "      <td>©Her Majesty the Queen in Right of Canada (201...</td>\n",
       "      <td>NaN</td>\n",
       "      <td>NaN</td>\n",
       "    </tr>\n",
       "    <tr>\n",
       "      <th>4</th>\n",
       "      <td>All requests for permission to reproduce this ...</td>\n",
       "      <td>NaN</td>\n",
       "      <td>NaN</td>\n",
       "    </tr>\n",
       "    <tr>\n",
       "      <th>5</th>\n",
       "      <td>the Department of Finance Canada.</td>\n",
       "      <td>NaN</td>\n",
       "      <td>NaN</td>\n",
       "    </tr>\n",
       "    <tr>\n",
       "      <th>6</th>\n",
       "      <td>For more information, please contact Service C...</td>\n",
       "      <td>NaN</td>\n",
       "      <td>NaN</td>\n",
       "    </tr>\n",
       "    <tr>\n",
       "      <th>7</th>\n",
       "      <td>TTY: 1-800-926-9105</td>\n",
       "      <td>NaN</td>\n",
       "      <td>NaN</td>\n",
       "    </tr>\n",
       "    <tr>\n",
       "      <th>8</th>\n",
       "      <td>Cat. No.: F1-23/3E-PDF ISSN: 1719-7740</td>\n",
       "      <td>NaN</td>\n",
       "      <td>NaN</td>\n",
       "    </tr>\n",
       "    <tr>\n",
       "      <th>9</th>\n",
       "      <td>This document is available on the Internet at ...</td>\n",
       "      <td>NaN</td>\n",
       "      <td>NaN</td>\n",
       "    </tr>\n",
       "    <tr>\n",
       "      <th>10</th>\n",
       "      <td>Cette publication est aussi disponible en fran...</td>\n",
       "      <td>NaN</td>\n",
       "      <td>NaN</td>\n",
       "    </tr>\n",
       "    <tr>\n",
       "      <th>11</th>\n",
       "      <td>TABLE OF CONTENTS</td>\n",
       "      <td>NaN</td>\n",
       "      <td>NaN</td>\n",
       "    </tr>\n",
       "    <tr>\n",
       "      <th>12</th>\n",
       "      <td>Introduction</td>\n",
       "      <td>NaN</td>\n",
       "      <td>NaN</td>\n",
       "    </tr>\n",
       "    <tr>\n",
       "      <th>13</th>\n",
       "      <td>Canada at 150</td>\n",
       "      <td>NaN</td>\n",
       "      <td>NaN</td>\n",
       "    </tr>\n",
       "    <tr>\n",
       "      <th>14</th>\n",
       "      <td>A Story of People and Progress</td>\n",
       "      <td>NaN</td>\n",
       "      <td>NaN</td>\n",
       "    </tr>\n",
       "    <tr>\n",
       "      <th>15</th>\n",
       "      <td>The Challenge of Change</td>\n",
       "      <td>NaN</td>\n",
       "      <td>NaN</td>\n",
       "    </tr>\n",
       "    <tr>\n",
       "      <th>16</th>\n",
       "      <td>Real Change for Canadians</td>\n",
       "      <td>NaN</td>\n",
       "      <td>NaN</td>\n",
       "    </tr>\n",
       "    <tr>\n",
       "      <th>17</th>\n",
       "      <td>Canada’s Place in a Time of Change</td>\n",
       "      <td>NaN</td>\n",
       "      <td>NaN</td>\n",
       "    </tr>\n",
       "    <tr>\n",
       "      <th>18</th>\n",
       "      <td>A Long-Term Plan to Strengthen and Grow the Mi...</td>\n",
       "      <td>NaN</td>\n",
       "      <td>NaN</td>\n",
       "    </tr>\n",
       "    <tr>\n",
       "      <th>19</th>\n",
       "      <td>The Case for Innovation</td>\n",
       "      <td>NaN</td>\n",
       "      <td>NaN</td>\n",
       "    </tr>\n",
       "    <tr>\n",
       "      <th>20</th>\n",
       "      <td>Budget 2017: Building a Strong Middle Class Th...</td>\n",
       "      <td>NaN</td>\n",
       "      <td>NaN</td>\n",
       "    </tr>\n",
       "    <tr>\n",
       "      <th>21</th>\n",
       "      <td>Conclusion</td>\n",
       "      <td>NaN</td>\n",
       "      <td>NaN</td>\n",
       "    </tr>\n",
       "    <tr>\n",
       "      <th>22</th>\n",
       "      <td>Economic and Fiscal Overview: Progress for the...</td>\n",
       "      <td>NaN</td>\n",
       "      <td>NaN</td>\n",
       "    </tr>\n",
       "    <tr>\n",
       "      <th>23</th>\n",
       "      <td>Introduction</td>\n",
       "      <td>NaN</td>\n",
       "      <td>NaN</td>\n",
       "    </tr>\n",
       "    <tr>\n",
       "      <th>24</th>\n",
       "      <td>The Canadian Economy Is Showing Resilience</td>\n",
       "      <td>NaN</td>\n",
       "      <td>NaN</td>\n",
       "    </tr>\n",
       "    <tr>\n",
       "      <th>25</th>\n",
       "      <td>Private Sector Outlook</td>\n",
       "      <td>NaN</td>\n",
       "      <td>NaN</td>\n",
       "    </tr>\n",
       "    <tr>\n",
       "      <th>26</th>\n",
       "      <td>Risk Assessment</td>\n",
       "      <td>NaN</td>\n",
       "      <td>NaN</td>\n",
       "    </tr>\n",
       "    <tr>\n",
       "      <th>27</th>\n",
       "      <td>Economic and Fiscal Developments</td>\n",
       "      <td>NaN</td>\n",
       "      <td>NaN</td>\n",
       "    </tr>\n",
       "    <tr>\n",
       "      <th>28</th>\n",
       "      <td>Continued Investments in a Strong Middle Class</td>\n",
       "      <td>NaN</td>\n",
       "      <td>NaN</td>\n",
       "    </tr>\n",
       "    <tr>\n",
       "      <th>29</th>\n",
       "      <td>Investing in Priorities</td>\n",
       "      <td>NaN</td>\n",
       "      <td>NaN</td>\n",
       "    </tr>\n",
       "    <tr>\n",
       "      <th>...</th>\n",
       "      <td>...</td>\n",
       "      <td>...</td>\n",
       "      <td>...</td>\n",
       "    </tr>\n",
       "    <tr>\n",
       "      <th>8173</th>\n",
       "      <td>1 The actual number of auctions that occur may...</td>\n",
       "      <td>NaN</td>\n",
       "      <td>NaN</td>\n",
       "    </tr>\n",
       "    <tr>\n",
       "      <th>8174</th>\n",
       "      <td>The order of bond auctions within each quarter...</td>\n",
       "      <td>NaN</td>\n",
       "      <td>NaN</td>\n",
       "    </tr>\n",
       "    <tr>\n",
       "      <th>8175</th>\n",
       "      <td>Canada website prior to the start of each quar...</td>\n",
       "      <td>NaN</td>\n",
       "      <td>NaN</td>\n",
       "    </tr>\n",
       "    <tr>\n",
       "      <th>8176</th>\n",
       "      <td>Ultra-Long Bond Issuance</td>\n",
       "      <td>NaN</td>\n",
       "      <td>NaN</td>\n",
       "    </tr>\n",
       "    <tr>\n",
       "      <th>8177</th>\n",
       "      <td>The Government may issue ultra-long bonds on a...</td>\n",
       "      <td>NaN</td>\n",
       "      <td>NaN</td>\n",
       "    </tr>\n",
       "    <tr>\n",
       "      <th>8178</th>\n",
       "      <td>Bond Buyback Programs</td>\n",
       "      <td>NaN</td>\n",
       "      <td>NaN</td>\n",
       "    </tr>\n",
       "    <tr>\n",
       "      <th>8179</th>\n",
       "      <td>The Government plans to continue conducting re...</td>\n",
       "      <td>NaN</td>\n",
       "      <td>NaN</td>\n",
       "    </tr>\n",
       "    <tr>\n",
       "      <th>8180</th>\n",
       "      <td>Two bond buyback operations on a switch basis ...</td>\n",
       "      <td>NaN</td>\n",
       "      <td>NaN</td>\n",
       "    </tr>\n",
       "    <tr>\n",
       "      <th>8181</th>\n",
       "      <td>Weekly cash management bond buyback operations...</td>\n",
       "      <td>NaN</td>\n",
       "      <td>NaN</td>\n",
       "    </tr>\n",
       "    <tr>\n",
       "      <th>8182</th>\n",
       "      <td>TREASURY BILL PROGRAM</td>\n",
       "      <td>NaN</td>\n",
       "      <td>NaN</td>\n",
       "    </tr>\n",
       "    <tr>\n",
       "      <th>8183</th>\n",
       "      <td>For 2017–18, the stock of treasury bills is pr...</td>\n",
       "      <td>NaN</td>\n",
       "      <td>NaN</td>\n",
       "    </tr>\n",
       "    <tr>\n",
       "      <th>8184</th>\n",
       "      <td>$131 billion. This is consistent with the medi...</td>\n",
       "      <td>NaN</td>\n",
       "      <td>NaN</td>\n",
       "    </tr>\n",
       "    <tr>\n",
       "      <th>8185</th>\n",
       "      <td>Bi-weekly issuance of 3-, 6- and 12-month matu...</td>\n",
       "      <td>NaN</td>\n",
       "      <td>NaN</td>\n",
       "    </tr>\n",
       "    <tr>\n",
       "      <th>8186</th>\n",
       "      <td>RETAIL DEBT</td>\n",
       "      <td>NaN</td>\n",
       "      <td>NaN</td>\n",
       "    </tr>\n",
       "    <tr>\n",
       "      <th>8187</th>\n",
       "      <td>The Canada Savings Bonds Program, created in 1...</td>\n",
       "      <td>NaN</td>\n",
       "      <td>NaN</td>\n",
       "    </tr>\n",
       "    <tr>\n",
       "      <th>8188</th>\n",
       "      <td>Consequently, the Government of Canada will di...</td>\n",
       "      <td>NaN</td>\n",
       "      <td>NaN</td>\n",
       "    </tr>\n",
       "    <tr>\n",
       "      <th>8189</th>\n",
       "      <td>MANAGEMENT OF CANADA’S OFFICIAL INTERNATIONAL ...</td>\n",
       "      <td>NaN</td>\n",
       "      <td>NaN</td>\n",
       "    </tr>\n",
       "    <tr>\n",
       "      <th>8190</th>\n",
       "      <td>The Exchange Fund Account (EFA), which is held...</td>\n",
       "      <td>NaN</td>\n",
       "      <td>NaN</td>\n",
       "    </tr>\n",
       "    <tr>\n",
       "      <th>8191</th>\n",
       "      <td>The EFA aids in the control and protection of ...</td>\n",
       "      <td>NaN</td>\n",
       "      <td>NaN</td>\n",
       "    </tr>\n",
       "    <tr>\n",
       "      <th>8192</th>\n",
       "      <td>vary as a result of movements in foreign inter...</td>\n",
       "      <td>NaN</td>\n",
       "      <td>NaN</td>\n",
       "    </tr>\n",
       "    <tr>\n",
       "      <th>8193</th>\n",
       "      <td>The mix of funding sources used to finance the...</td>\n",
       "      <td>NaN</td>\n",
       "      <td>NaN</td>\n",
       "    </tr>\n",
       "    <tr>\n",
       "      <th>8194</th>\n",
       "      <td>Further information on foreign currency fundin...</td>\n",
       "      <td>NaN</td>\n",
       "      <td>NaN</td>\n",
       "    </tr>\n",
       "    <tr>\n",
       "      <th>8195</th>\n",
       "      <td>3 SDRs are international reserve assets create...</td>\n",
       "      <td>NaN</td>\n",
       "      <td>NaN</td>\n",
       "    </tr>\n",
       "    <tr>\n",
       "      <th>8196</th>\n",
       "      <td>CASH MANAGEMENT</td>\n",
       "      <td>NaN</td>\n",
       "      <td>NaN</td>\n",
       "    </tr>\n",
       "    <tr>\n",
       "      <th>8197</th>\n",
       "      <td>The core objective of cash management is to en...</td>\n",
       "      <td>NaN</td>\n",
       "      <td>NaN</td>\n",
       "    </tr>\n",
       "    <tr>\n",
       "      <th>8198</th>\n",
       "      <td>Cash consists of moneys on deposit with the Ba...</td>\n",
       "      <td>NaN</td>\n",
       "      <td>NaN</td>\n",
       "    </tr>\n",
       "    <tr>\n",
       "      <th>8199</th>\n",
       "      <td>Periodic updates on the liquidity position are...</td>\n",
       "      <td>NaN</td>\n",
       "      <td>NaN</td>\n",
       "    </tr>\n",
       "    <tr>\n",
       "      <th>8200</th>\n",
       "      <td>(www.fin.gc.ca/pub/fm-rf-index-eng.asp).</td>\n",
       "      <td>NaN</td>\n",
       "      <td>NaN</td>\n",
       "    </tr>\n",
       "    <tr>\n",
       "      <th>8201</th>\n",
       "      <td>PRUDENTIAL LIQUIDITY</td>\n",
       "      <td>NaN</td>\n",
       "      <td>NaN</td>\n",
       "    </tr>\n",
       "    <tr>\n",
       "      <th>8202</th>\n",
       "      <td>The Government holds liquid financial assets i...</td>\n",
       "      <td>NaN</td>\n",
       "      <td>NaN</td>\n",
       "    </tr>\n",
       "  </tbody>\n",
       "</table>\n",
       "<p>8203 rows × 3 columns</p>\n",
       "</div>"
      ],
      "text/plain": [
       "                                                   text other combined_txt\n",
       "0                        Tabled in the House of Commons   NaN          NaN\n",
       "1     by the Honourable William Francis Morneau, P.C...   NaN          NaN\n",
       "2                                        March 22, 2017   NaN          NaN\n",
       "3     ©Her Majesty the Queen in Right of Canada (201...   NaN          NaN\n",
       "4     All requests for permission to reproduce this ...   NaN          NaN\n",
       "5                     the Department of Finance Canada.   NaN          NaN\n",
       "6     For more information, please contact Service C...   NaN          NaN\n",
       "7                                   TTY: 1-800-926-9105   NaN          NaN\n",
       "8                Cat. No.: F1-23/3E-PDF ISSN: 1719-7740   NaN          NaN\n",
       "9     This document is available on the Internet at ...   NaN          NaN\n",
       "10    Cette publication est aussi disponible en fran...   NaN          NaN\n",
       "11                                    TABLE OF CONTENTS   NaN          NaN\n",
       "12                                         Introduction   NaN          NaN\n",
       "13                                        Canada at 150   NaN          NaN\n",
       "14                       A Story of People and Progress   NaN          NaN\n",
       "15                              The Challenge of Change   NaN          NaN\n",
       "16                            Real Change for Canadians   NaN          NaN\n",
       "17                   Canada’s Place in a Time of Change   NaN          NaN\n",
       "18    A Long-Term Plan to Strengthen and Grow the Mi...   NaN          NaN\n",
       "19                              The Case for Innovation   NaN          NaN\n",
       "20    Budget 2017: Building a Strong Middle Class Th...   NaN          NaN\n",
       "21                                           Conclusion   NaN          NaN\n",
       "22    Economic and Fiscal Overview: Progress for the...   NaN          NaN\n",
       "23                                         Introduction   NaN          NaN\n",
       "24           The Canadian Economy Is Showing Resilience   NaN          NaN\n",
       "25                               Private Sector Outlook   NaN          NaN\n",
       "26                                      Risk Assessment   NaN          NaN\n",
       "27                     Economic and Fiscal Developments   NaN          NaN\n",
       "28       Continued Investments in a Strong Middle Class   NaN          NaN\n",
       "29                              Investing in Priorities   NaN          NaN\n",
       "...                                                 ...   ...          ...\n",
       "8173  1 The actual number of auctions that occur may...   NaN          NaN\n",
       "8174  The order of bond auctions within each quarter...   NaN          NaN\n",
       "8175  Canada website prior to the start of each quar...   NaN          NaN\n",
       "8176                           Ultra-Long Bond Issuance   NaN          NaN\n",
       "8177  The Government may issue ultra-long bonds on a...   NaN          NaN\n",
       "8178                              Bond Buyback Programs   NaN          NaN\n",
       "8179  The Government plans to continue conducting re...   NaN          NaN\n",
       "8180  Two bond buyback operations on a switch basis ...   NaN          NaN\n",
       "8181  Weekly cash management bond buyback operations...   NaN          NaN\n",
       "8182                              TREASURY BILL PROGRAM   NaN          NaN\n",
       "8183  For 2017–18, the stock of treasury bills is pr...   NaN          NaN\n",
       "8184  $131 billion. This is consistent with the medi...   NaN          NaN\n",
       "8185  Bi-weekly issuance of 3-, 6- and 12-month matu...   NaN          NaN\n",
       "8186                                        RETAIL DEBT   NaN          NaN\n",
       "8187  The Canada Savings Bonds Program, created in 1...   NaN          NaN\n",
       "8188  Consequently, the Government of Canada will di...   NaN          NaN\n",
       "8189  MANAGEMENT OF CANADA’S OFFICIAL INTERNATIONAL ...   NaN          NaN\n",
       "8190  The Exchange Fund Account (EFA), which is held...   NaN          NaN\n",
       "8191  The EFA aids in the control and protection of ...   NaN          NaN\n",
       "8192  vary as a result of movements in foreign inter...   NaN          NaN\n",
       "8193  The mix of funding sources used to finance the...   NaN          NaN\n",
       "8194  Further information on foreign currency fundin...   NaN          NaN\n",
       "8195  3 SDRs are international reserve assets create...   NaN          NaN\n",
       "8196                                    CASH MANAGEMENT   NaN          NaN\n",
       "8197  The core objective of cash management is to en...   NaN          NaN\n",
       "8198  Cash consists of moneys on deposit with the Ba...   NaN          NaN\n",
       "8199  Periodic updates on the liquidity position are...   NaN          NaN\n",
       "8200           (www.fin.gc.ca/pub/fm-rf-index-eng.asp).   NaN          NaN\n",
       "8201                               PRUDENTIAL LIQUIDITY   NaN          NaN\n",
       "8202  The Government holds liquid financial assets i...   NaN          NaN\n",
       "\n",
       "[8203 rows x 3 columns]"
      ]
     },
     "execution_count": 147,
     "metadata": {},
     "output_type": "execute_result"
    }
   ],
   "source": [
    "can_df2.drop('country', axis=1)"
   ]
  },
  {
   "cell_type": "code",
   "execution_count": 156,
   "metadata": {},
   "outputs": [],
   "source": [
    "can_df3 = can_df2.drop(['combined_txt', 'country', 'other'], axis=1)"
   ]
  },
  {
   "cell_type": "code",
   "execution_count": 157,
   "metadata": {},
   "outputs": [
    {
     "data": {
      "text/plain": [
       "text    7900\n",
       "dtype: int64"
      ]
     },
     "execution_count": 157,
     "metadata": {},
     "output_type": "execute_result"
    }
   ],
   "source": [
    "can_df3.notnull().sum()"
   ]
  },
  {
   "cell_type": "code",
   "execution_count": 158,
   "metadata": {},
   "outputs": [],
   "source": [
    "can_df3['country'] = 'canada'"
   ]
  },
  {
   "cell_type": "code",
   "execution_count": 159,
   "metadata": {},
   "outputs": [
    {
     "data": {
      "text/html": [
       "<div>\n",
       "<style scoped>\n",
       "    .dataframe tbody tr th:only-of-type {\n",
       "        vertical-align: middle;\n",
       "    }\n",
       "\n",
       "    .dataframe tbody tr th {\n",
       "        vertical-align: top;\n",
       "    }\n",
       "\n",
       "    .dataframe thead th {\n",
       "        text-align: right;\n",
       "    }\n",
       "</style>\n",
       "<table border=\"1\" class=\"dataframe\">\n",
       "  <thead>\n",
       "    <tr style=\"text-align: right;\">\n",
       "      <th></th>\n",
       "      <th>text</th>\n",
       "      <th>country</th>\n",
       "    </tr>\n",
       "  </thead>\n",
       "  <tbody>\n",
       "    <tr>\n",
       "      <th>0</th>\n",
       "      <td>Tabled in the House of Commons</td>\n",
       "      <td>canada</td>\n",
       "    </tr>\n",
       "    <tr>\n",
       "      <th>1</th>\n",
       "      <td>by the Honourable William Francis Morneau, P.C...</td>\n",
       "      <td>canada</td>\n",
       "    </tr>\n",
       "    <tr>\n",
       "      <th>2</th>\n",
       "      <td>March 22, 2017</td>\n",
       "      <td>canada</td>\n",
       "    </tr>\n",
       "    <tr>\n",
       "      <th>3</th>\n",
       "      <td>©Her Majesty the Queen in Right of Canada (201...</td>\n",
       "      <td>canada</td>\n",
       "    </tr>\n",
       "    <tr>\n",
       "      <th>4</th>\n",
       "      <td>All requests for permission to reproduce this ...</td>\n",
       "      <td>canada</td>\n",
       "    </tr>\n",
       "  </tbody>\n",
       "</table>\n",
       "</div>"
      ],
      "text/plain": [
       "                                                text country\n",
       "0                     Tabled in the House of Commons  canada\n",
       "1  by the Honourable William Francis Morneau, P.C...  canada\n",
       "2                                     March 22, 2017  canada\n",
       "3  ©Her Majesty the Queen in Right of Canada (201...  canada\n",
       "4  All requests for permission to reproduce this ...  canada"
      ]
     },
     "execution_count": 159,
     "metadata": {},
     "output_type": "execute_result"
    }
   ],
   "source": [
    "can_df3.head()\n",
    "# final dataset to be combined with UK data"
   ]
  },
  {
   "cell_type": "code",
   "execution_count": 161,
   "metadata": {
    "collapsed": true
   },
   "outputs": [
    {
     "name": "stderr",
     "output_type": "stream",
     "text": [
      "b'Skipping line 76: expected 1 fields, saw 2\\nSkipping line 77: expected 1 fields, saw 2\\nSkipping line 78: expected 1 fields, saw 2\\nSkipping line 79: expected 1 fields, saw 2\\nSkipping line 80: expected 1 fields, saw 2\\nSkipping line 81: expected 1 fields, saw 2\\nSkipping line 82: expected 1 fields, saw 2\\nSkipping line 83: expected 1 fields, saw 2\\nSkipping line 84: expected 1 fields, saw 2\\nSkipping line 85: expected 1 fields, saw 2\\nSkipping line 659: expected 1 fields, saw 17\\nSkipping line 745: expected 1 fields, saw 11\\nSkipping line 804: expected 1 fields, saw 4\\nSkipping line 805: expected 1 fields, saw 2\\nSkipping line 806: expected 1 fields, saw 3\\nSkipping line 1268: expected 1 fields, saw 2\\nSkipping line 1283: expected 1 fields, saw 5\\nSkipping line 1418: expected 1 fields, saw 7\\nSkipping line 1693: expected 1 fields, saw 13\\nSkipping line 1835: expected 1 fields, saw 2\\nSkipping line 1836: expected 1 fields, saw 6\\nSkipping line 2091: expected 1 fields, saw 3\\nSkipping line 2092: expected 1 fields, saw 2\\nSkipping line 2117: expected 1 fields, saw 2\\nSkipping line 2118: expected 1 fields, saw 2\\nSkipping line 2119: expected 1 fields, saw 2\\nSkipping line 2123: expected 1 fields, saw 2\\nSkipping line 2124: expected 1 fields, saw 2\\nSkipping line 2125: expected 1 fields, saw 2\\nSkipping line 2431: expected 1 fields, saw 3\\nSkipping line 2433: expected 1 fields, saw 3\\nSkipping line 2571: expected 1 fields, saw 2\\nSkipping line 2572: expected 1 fields, saw 2\\nSkipping line 2573: expected 1 fields, saw 18\\nSkipping line 2574: expected 1 fields, saw 2\\nSkipping line 2624: expected 1 fields, saw 2\\nSkipping line 2626: expected 1 fields, saw 2\\nSkipping line 2627: expected 1 fields, saw 13\\nSkipping line 2628: expected 1 fields, saw 2\\nSkipping line 2753: expected 1 fields, saw 2\\nSkipping line 2754: expected 1 fields, saw 2\\nSkipping line 2755: expected 1 fields, saw 4\\nSkipping line 2757: expected 1 fields, saw 2\\nSkipping line 2760: expected 1 fields, saw 2\\nSkipping line 2761: expected 1 fields, saw 2\\nSkipping line 3055: expected 1 fields, saw 2\\nSkipping line 3061: expected 1 fields, saw 4\\nSkipping line 3067: expected 1 fields, saw 4\\nSkipping line 3068: expected 1 fields, saw 3\\nSkipping line 3072: expected 1 fields, saw 2\\nSkipping line 3074: expected 1 fields, saw 2\\nSkipping line 3075: expected 1 fields, saw 2\\nSkipping line 3686: expected 1 fields, saw 3\\nSkipping line 3688: expected 1 fields, saw 3\\nSkipping line 3905: expected 1 fields, saw 4\\nSkipping line 3906: expected 1 fields, saw 3\\nSkipping line 3907: expected 1 fields, saw 3\\nSkipping line 3908: expected 1 fields, saw 4\\nSkipping line 3909: expected 1 fields, saw 3\\nSkipping line 3910: expected 1 fields, saw 3\\nSkipping line 3963: expected 1 fields, saw 3\\nSkipping line 4134: expected 1 fields, saw 2\\nSkipping line 4135: expected 1 fields, saw 3\\nSkipping line 4136: expected 1 fields, saw 4\\nSkipping line 4137: expected 1 fields, saw 4\\nSkipping line 4138: expected 1 fields, saw 3\\nSkipping line 4139: expected 1 fields, saw 3\\nSkipping line 4140: expected 1 fields, saw 7\\nSkipping line 4141: expected 1 fields, saw 2\\nSkipping line 4142: expected 1 fields, saw 2\\nSkipping line 4143: expected 1 fields, saw 5\\nSkipping line 4144: expected 1 fields, saw 8\\nSkipping line 4294: expected 1 fields, saw 4\\nSkipping line 4375: expected 1 fields, saw 10\\nSkipping line 4376: expected 1 fields, saw 7\\nSkipping line 4470: expected 1 fields, saw 4\\nSkipping line 4471: expected 1 fields, saw 2\\nSkipping line 4477: expected 1 fields, saw 3\\nSkipping line 4480: expected 1 fields, saw 4\\nSkipping line 4488: expected 1 fields, saw 5\\nSkipping line 4489: expected 1 fields, saw 2\\nSkipping line 4491: expected 1 fields, saw 5\\nSkipping line 4492: expected 1 fields, saw 3\\nSkipping line 4494: expected 1 fields, saw 3\\nSkipping line 4496: expected 1 fields, saw 4\\nSkipping line 4497: expected 1 fields, saw 2\\nSkipping line 4498: expected 1 fields, saw 3\\nSkipping line 4500: expected 1 fields, saw 5\\nSkipping line 4501: expected 1 fields, saw 3\\nSkipping line 4502: expected 1 fields, saw 3\\nSkipping line 4505: expected 1 fields, saw 3\\nSkipping line 4506: expected 1 fields, saw 4\\nSkipping line 4509: expected 1 fields, saw 2\\nSkipping line 4510: expected 1 fields, saw 3\\nSkipping line 4513: expected 1 fields, saw 4\\nSkipping line 4515: expected 1 fields, saw 3\\nSkipping line 4516: expected 1 fields, saw 2\\nSkipping line 4518: expected 1 fields, saw 2\\nSkipping line 4657: expected 1 fields, saw 4\\nSkipping line 4658: expected 1 fields, saw 4\\nSkipping line 4659: expected 1 fields, saw 4\\nSkipping line 4821: expected 1 fields, saw 5\\nSkipping line 4822: expected 1 fields, saw 3\\nSkipping line 4823: expected 1 fields, saw 3\\nSkipping line 4824: expected 1 fields, saw 4\\nSkipping line 4825: expected 1 fields, saw 2\\nSkipping line 4826: expected 1 fields, saw 7\\nSkipping line 4931: expected 1 fields, saw 2\\nSkipping line 4932: expected 1 fields, saw 10\\nSkipping line 4933: expected 1 fields, saw 6\\nSkipping line 4984: expected 1 fields, saw 3\\nSkipping line 5137: expected 1 fields, saw 10\\nSkipping line 5138: expected 1 fields, saw 2\\nSkipping line 5139: expected 1 fields, saw 3\\nSkipping line 5140: expected 1 fields, saw 2\\nSkipping line 5141: expected 1 fields, saw 4\\nSkipping line 5142: expected 1 fields, saw 2\\nSkipping line 5143: expected 1 fields, saw 7\\nSkipping line 5144: expected 1 fields, saw 2\\nSkipping line 5192: expected 1 fields, saw 13\\nSkipping line 5193: expected 1 fields, saw 2\\nSkipping line 5194: expected 1 fields, saw 8\\nSkipping line 5195: expected 1 fields, saw 2\\nSkipping line 5196: expected 1 fields, saw 3\\nSkipping line 5197: expected 1 fields, saw 3\\nSkipping line 5198: expected 1 fields, saw 2\\nSkipping line 5199: expected 1 fields, saw 2\\nSkipping line 5200: expected 1 fields, saw 2\\nSkipping line 5201: expected 1 fields, saw 2\\nSkipping line 5202: expected 1 fields, saw 8\\nSkipping line 5203: expected 1 fields, saw 2\\nSkipping line 5204: expected 1 fields, saw 4\\nSkipping line 5205: expected 1 fields, saw 2\\nSkipping line 5316: expected 1 fields, saw 4\\nSkipping line 5397: expected 1 fields, saw 3\\nSkipping line 5398: expected 1 fields, saw 4\\nSkipping line 5494: expected 1 fields, saw 4\\nSkipping line 5495: expected 1 fields, saw 6\\nSkipping line 5496: expected 1 fields, saw 2\\nSkipping line 5550: expected 1 fields, saw 8\\nSkipping line 5551: expected 1 fields, saw 2\\nSkipping line 5552: expected 1 fields, saw 10\\nSkipping line 5554: expected 1 fields, saw 3\\nSkipping line 5555: expected 1 fields, saw 4\\nSkipping line 5556: expected 1 fields, saw 2\\nSkipping line 5557: expected 1 fields, saw 2\\nSkipping line 5558: expected 1 fields, saw 4\\nSkipping line 5768: expected 1 fields, saw 3\\nSkipping line 5946: expected 1 fields, saw 7\\nSkipping line 5947: expected 1 fields, saw 12\\nSkipping line 6055: expected 1 fields, saw 7\\nSkipping line 6056: expected 1 fields, saw 8\\nSkipping line 6110: expected 1 fields, saw 7\\nSkipping line 6111: expected 1 fields, saw 6\\nSkipping line 6112: expected 1 fields, saw 2\\nSkipping line 6113: expected 1 fields, saw 2\\nSkipping line 6114: expected 1 fields, saw 2\\nSkipping line 6115: expected 1 fields, saw 2\\nSkipping line 6345: expected 1 fields, saw 6\\nSkipping line 6346: expected 1 fields, saw 4\\nSkipping line 6347: expected 1 fields, saw 5\\nSkipping line 6348: expected 1 fields, saw 3\\nSkipping line 6349: expected 1 fields, saw 3\\nSkipping line 6350: expected 1 fields, saw 3\\nSkipping line 6398: expected 1 fields, saw 2\\nSkipping line 6524: expected 1 fields, saw 6\\nSkipping line 6525: expected 1 fields, saw 4\\nSkipping line 6526: expected 1 fields, saw 15\\nSkipping line 6971: expected 1 fields, saw 5\\nSkipping line 6972: expected 1 fields, saw 2\\nSkipping line 6976: expected 1 fields, saw 3\\nSkipping line 6977: expected 1 fields, saw 10\\nSkipping line 6978: expected 1 fields, saw 2\\nSkipping line 6979: expected 1 fields, saw 3\\nSkipping line 7097: expected 1 fields, saw 5\\nSkipping line 7098: expected 1 fields, saw 5\\nSkipping line 7102: expected 1 fields, saw 3\\nSkipping line 7103: expected 1 fields, saw 4\\nSkipping line 7104: expected 1 fields, saw 5\\nSkipping line 7157: expected 1 fields, saw 5\\nSkipping line 7158: expected 1 fields, saw 7\\nSkipping line 7159: expected 1 fields, saw 2\\nSkipping line 7160: expected 1 fields, saw 4\\nSkipping line 7161: expected 1 fields, saw 2\\nSkipping line 7162: expected 1 fields, saw 2\\nSkipping line 7163: expected 1 fields, saw 3\\nSkipping line 7166: expected 1 fields, saw 7\\nSkipping line 7167: expected 1 fields, saw 2\\nSkipping line 7168: expected 1 fields, saw 4\\nSkipping line 7544: expected 1 fields, saw 3\\nSkipping line 7545: expected 1 fields, saw 4\\nSkipping line 7546: expected 1 fields, saw 3\\nSkipping line 7547: expected 1 fields, saw 7\\nSkipping line 7548: expected 1 fields, saw 2\\nSkipping line 7549: expected 1 fields, saw 3\\nSkipping line 7550: expected 1 fields, saw 2\\nSkipping line 7626: expected 1 fields, saw 4\\nSkipping line 7627: expected 1 fields, saw 3\\nSkipping line 7628: expected 1 fields, saw 9\\nSkipping line 7677: expected 1 fields, saw 5\\nSkipping line 7679: expected 1 fields, saw 3\\nSkipping line 7680: expected 1 fields, saw 2\\nSkipping line 7681: expected 1 fields, saw 2\\nSkipping line 7682: expected 1 fields, saw 2\\nSkipping line 7684: expected 1 fields, saw 2\\nSkipping line 7685: expected 1 fields, saw 6\\nSkipping line 7686: expected 1 fields, saw 8\\nSkipping line 7853: expected 1 fields, saw 9\\nSkipping line 7854: expected 1 fields, saw 6\\nSkipping line 7855: expected 1 fields, saw 11\\nSkipping line 7856: expected 1 fields, saw 3\\nSkipping line 7857: expected 1 fields, saw 5\\nSkipping line 7858: expected 1 fields, saw 9\\nSkipping line 7859: expected 1 fields, saw 2\\nSkipping line 7860: expected 1 fields, saw 5\\nSkipping line 7861: expected 1 fields, saw 5\\nSkipping line 7862: expected 1 fields, saw 2\\nSkipping line 7863: expected 1 fields, saw 2\\nSkipping line 8032: expected 1 fields, saw 4\\nSkipping line 8033: expected 1 fields, saw 3\\nSkipping line 8034: expected 1 fields, saw 6\\nSkipping line 8035: expected 1 fields, saw 5\\nSkipping line 8036: expected 1 fields, saw 2\\nSkipping line 8037: expected 1 fields, saw 7\\nSkipping line 8238: expected 1 fields, saw 3\\nSkipping line 8239: expected 1 fields, saw 3\\nSkipping line 8240: expected 1 fields, saw 3\\nSkipping line 8241: expected 1 fields, saw 3\\nSkipping line 8242: expected 1 fields, saw 3\\nSkipping line 8243: expected 1 fields, saw 3\\nSkipping line 8244: expected 1 fields, saw 3\\nSkipping line 8245: expected 1 fields, saw 3\\nSkipping line 8246: expected 1 fields, saw 3\\nSkipping line 8247: expected 1 fields, saw 3\\nSkipping line 8248: expected 1 fields, saw 3\\nSkipping line 8250: expected 1 fields, saw 3\\nSkipping line 8251: expected 1 fields, saw 3\\nSkipping line 8252: expected 1 fields, saw 3\\nSkipping line 8253: expected 1 fields, saw 3\\nSkipping line 8255: expected 1 fields, saw 3\\nSkipping line 8256: expected 1 fields, saw 3\\nSkipping line 8257: expected 1 fields, saw 3\\nSkipping line 8258: expected 1 fields, saw 3\\nSkipping line 8259: expected 1 fields, saw 3\\nSkipping line 8260: expected 1 fields, saw 3\\nSkipping line 8261: expected 1 fields, saw 3\\nSkipping line 8262: expected 1 fields, saw 3\\nSkipping line 8263: expected 1 fields, saw 3\\nSkipping line 8272: expected 1 fields, saw 3\\nSkipping line 8273: expected 1 fields, saw 3\\nSkipping line 8274: expected 1 fields, saw 3\\nSkipping line 8275: expected 1 fields, saw 3\\nSkipping line 8276: expected 1 fields, saw 3\\nSkipping line 8277: expected 1 fields, saw 3\\nSkipping line 8278: expected 1 fields, saw 3\\nSkipping line 8279: expected 1 fields, saw 3\\nSkipping line 8280: expected 1 fields, saw 3\\nSkipping line 8281: expected 1 fields, saw 3\\nSkipping line 8282: expected 1 fields, saw 3\\nSkipping line 8283: expected 1 fields, saw 3\\nSkipping line 8284: expected 1 fields, saw 3\\nSkipping line 8286: expected 1 fields, saw 3\\nSkipping line 8288: expected 1 fields, saw 3\\nSkipping line 8289: expected 1 fields, saw 3\\nSkipping line 8292: expected 1 fields, saw 3\\nSkipping line 8293: expected 1 fields, saw 3\\nSkipping line 8294: expected 1 fields, saw 3\\nSkipping line 8295: expected 1 fields, saw 3\\nSkipping line 8296: expected 1 fields, saw 3\\nSkipping line 8297: expected 1 fields, saw 3\\nSkipping line 8298: expected 1 fields, saw 3\\nSkipping line 8299: expected 1 fields, saw 3\\nSkipping line 8307: expected 1 fields, saw 3\\nSkipping line 8308: expected 1 fields, saw 3\\nSkipping line 8309: expected 1 fields, saw 3\\nSkipping line 8310: expected 1 fields, saw 3\\nSkipping line 8311: expected 1 fields, saw 3\\nSkipping line 8312: expected 1 fields, saw 3\\nSkipping line 8314: expected 1 fields, saw 3\\nSkipping line 8316: expected 1 fields, saw 3\\nSkipping line 8317: expected 1 fields, saw 3\\nSkipping line 8318: expected 1 fields, saw 3\\nSkipping line 8319: expected 1 fields, saw 3\\nSkipping line 8321: expected 1 fields, saw 3\\nSkipping line 8322: expected 1 fields, saw 3\\nSkipping line 8323: expected 1 fields, saw 3\\nSkipping line 8324: expected 1 fields, saw 3\\nSkipping line 8328: expected 1 fields, saw 3\\nSkipping line 8329: expected 1 fields, saw 3\\nSkipping line 8330: expected 1 fields, saw 3\\nSkipping line 8331: expected 1 fields, saw 3\\nSkipping line 8332: expected 1 fields, saw 3\\nSkipping line 8333: expected 1 fields, saw 3\\nSkipping line 8334: expected 1 fields, saw 3\\nSkipping line 8342: expected 1 fields, saw 3\\nSkipping line 8344: expected 1 fields, saw 3\\nSkipping line 8345: expected 1 fields, saw 3\\nSkipping line 8346: expected 1 fields, saw 3\\nSkipping line 8347: expected 1 fields, saw 3\\nSkipping line 8348: expected 1 fields, saw 3\\nSkipping line 8349: expected 1 fields, saw 3\\nSkipping line 8351: expected 1 fields, saw 3\\nSkipping line 8352: expected 1 fields, saw 3\\nSkipping line 8354: expected 1 fields, saw 3\\nSkipping line 8355: expected 1 fields, saw 3\\nSkipping line 8356: expected 1 fields, saw 3\\nSkipping line 8357: expected 1 fields, saw 3\\nSkipping line 8358: expected 1 fields, saw 3\\nSkipping line 8359: expected 1 fields, saw 3\\nSkipping line 8360: expected 1 fields, saw 3\\nSkipping line 8361: expected 1 fields, saw 3\\nSkipping line 8362: expected 1 fields, saw 3\\nSkipping line 8363: expected 1 fields, saw 3\\nSkipping line 8364: expected 1 fields, saw 3\\nSkipping line 8365: expected 1 fields, saw 3\\nSkipping line 8366: expected 1 fields, saw 3\\nSkipping line 8367: expected 1 fields, saw 3\\nSkipping line 8377: expected 1 fields, saw 3\\nSkipping line 8378: expected 1 fields, saw 3\\nSkipping line 8379: expected 1 fields, saw 3\\nSkipping line 8380: expected 1 fields, saw 3\\nSkipping line 8381: expected 1 fields, saw 3\\nSkipping line 8382: expected 1 fields, saw 3\\nSkipping line 8384: expected 1 fields, saw 3\\nSkipping line 8385: expected 1 fields, saw 3\\nSkipping line 8386: expected 1 fields, saw 3\\nSkipping line 8387: expected 1 fields, saw 3\\nSkipping line 8389: expected 1 fields, saw 3\\nSkipping line 8390: expected 1 fields, saw 3\\nSkipping line 8391: expected 1 fields, saw 3\\nSkipping line 8392: expected 1 fields, saw 3\\nSkipping line 8393: expected 1 fields, saw 3\\nSkipping line 8394: expected 1 fields, saw 3\\nSkipping line 8395: expected 1 fields, saw 3\\nSkipping line 8396: expected 1 fields, saw 3\\nSkipping line 8401: expected 1 fields, saw 3\\nSkipping line 8402: expected 1 fields, saw 3\\nSkipping line 8412: expected 1 fields, saw 3\\nSkipping line 8413: expected 1 fields, saw 3\\nSkipping line 8414: expected 1 fields, saw 3\\nSkipping line 8415: expected 1 fields, saw 3\\nSkipping line 8416: expected 1 fields, saw 3\\nSkipping line 8417: expected 1 fields, saw 3\\nSkipping line 8418: expected 1 fields, saw 3\\nSkipping line 8419: expected 1 fields, saw 3\\nSkipping line 8420: expected 1 fields, saw 3\\nSkipping line 8421: expected 1 fields, saw 3\\nSkipping line 8423: expected 1 fields, saw 3\\nSkipping line 8424: expected 1 fields, saw 3\\nSkipping line 8425: expected 1 fields, saw 3\\nSkipping line 8426: expected 1 fields, saw 3\\nSkipping line 8427: expected 1 fields, saw 3\\nSkipping line 8428: expected 1 fields, saw 3\\nSkipping line 8429: expected 1 fields, saw 3\\nSkipping line 8430: expected 1 fields, saw 3\\nSkipping line 8431: expected 1 fields, saw 3\\nSkipping line 8440: expected 1 fields, saw 3\\nSkipping line 8441: expected 1 fields, saw 3\\nSkipping line 8442: expected 1 fields, saw 3\\nSkipping line 8443: expected 1 fields, saw 3\\nSkipping line 8444: expected 1 fields, saw 3\\nSkipping line 8446: expected 1 fields, saw 3\\nSkipping line 8447: expected 1 fields, saw 3\\nSkipping line 8448: expected 1 fields, saw 3\\nSkipping line 8449: expected 1 fields, saw 3\\nSkipping line 8450: expected 1 fields, saw 3\\nSkipping line 8451: expected 1 fields, saw 3\\nSkipping line 8453: expected 1 fields, saw 3\\nSkipping line 8454: expected 1 fields, saw 3\\nSkipping line 8455: expected 1 fields, saw 3\\nSkipping line 8456: expected 1 fields, saw 3\\nSkipping line 8457: expected 1 fields, saw 3\\nSkipping line 8458: expected 1 fields, saw 3\\nSkipping line 8459: expected 1 fields, saw 3\\nSkipping line 8460: expected 1 fields, saw 3\\nSkipping line 8461: expected 1 fields, saw 3\\nSkipping line 8463: expected 1 fields, saw 3\\nSkipping line 8464: expected 1 fields, saw 3\\nSkipping line 8465: expected 1 fields, saw 3\\nSkipping line 8473: expected 1 fields, saw 3\\nSkipping line 8474: expected 1 fields, saw 3\\nSkipping line 8475: expected 1 fields, saw 3\\nSkipping line 8476: expected 1 fields, saw 3\\nSkipping line 8477: expected 1 fields, saw 3\\nSkipping line 8478: expected 1 fields, saw 3\\nSkipping line 8479: expected 1 fields, saw 3\\nSkipping line 8480: expected 1 fields, saw 3\\nSkipping line 8481: expected 1 fields, saw 3\\nSkipping line 8482: expected 1 fields, saw 3\\nSkipping line 8483: expected 1 fields, saw 3\\nSkipping line 8484: expected 1 fields, saw 3\\nSkipping line 8485: expected 1 fields, saw 3\\nSkipping line 8486: expected 1 fields, saw 3\\nSkipping line 8487: expected 1 fields, saw 3\\nSkipping line 8488: expected 1 fields, saw 3\\nSkipping line 8489: expected 1 fields, saw 3\\nSkipping line 8490: expected 1 fields, saw 3\\nSkipping line 8491: expected 1 fields, saw 3\\nSkipping line 8492: expected 1 fields, saw 3\\nSkipping line 8494: expected 1 fields, saw 3\\nSkipping line 8495: expected 1 fields, saw 3\\nSkipping line 8496: expected 1 fields, saw 3\\nSkipping line 8497: expected 1 fields, saw 3\\nSkipping line 8498: expected 1 fields, saw 3\\nSkipping line 8499: expected 1 fields, saw 3\\nSkipping line 8500: expected 1 fields, saw 3\\nSkipping line 8509: expected 1 fields, saw 3\\nSkipping line 8510: expected 1 fields, saw 3\\nSkipping line 8512: expected 1 fields, saw 3\\nSkipping line 8513: expected 1 fields, saw 3\\nSkipping line 8514: expected 1 fields, saw 3\\nSkipping line 8515: expected 1 fields, saw 3\\nSkipping line 8516: expected 1 fields, saw 3\\nSkipping line 8517: expected 1 fields, saw 3\\nSkipping line 8518: expected 1 fields, saw 3\\nSkipping line 8520: expected 1 fields, saw 3\\nSkipping line 8521: expected 1 fields, saw 3\\nSkipping line 8523: expected 1 fields, saw 3\\nSkipping line 8524: expected 1 fields, saw 3\\nSkipping line 8526: expected 1 fields, saw 3\\nSkipping line 8527: expected 1 fields, saw 3\\nSkipping line 8528: expected 1 fields, saw 3\\nSkipping line 8529: expected 1 fields, saw 3\\nSkipping line 8530: expected 1 fields, saw 3\\nSkipping line 8531: expected 1 fields, saw 3\\nSkipping line 8539: expected 1 fields, saw 3\\nSkipping line 8540: expected 1 fields, saw 3\\nSkipping line 8543: expected 1 fields, saw 3\\nSkipping line 8544: expected 1 fields, saw 3\\nSkipping line 8545: expected 1 fields, saw 3\\nSkipping line 8546: expected 1 fields, saw 3\\nSkipping line 8547: expected 1 fields, saw 3\\nSkipping line 8548: expected 1 fields, saw 3\\nSkipping line 8549: expected 1 fields, saw 3\\nSkipping line 8550: expected 1 fields, saw 3\\nSkipping line 8551: expected 1 fields, saw 3\\nSkipping line 8552: expected 1 fields, saw 3\\nSkipping line 8553: expected 1 fields, saw 3\\nSkipping line 8554: expected 1 fields, saw 3\\nSkipping line 8555: expected 1 fields, saw 3\\nSkipping line 8556: expected 1 fields, saw 3\\nSkipping line 8557: expected 1 fields, saw 3\\nSkipping line 8558: expected 1 fields, saw 3\\nSkipping line 8559: expected 1 fields, saw 3\\nSkipping line 8560: expected 1 fields, saw 3\\nSkipping line 8572: expected 1 fields, saw 2\\nSkipping line 8573: expected 1 fields, saw 2\\nSkipping line 8574: expected 1 fields, saw 2\\nSkipping line 8576: expected 1 fields, saw 2\\nSkipping line 8583: expected 1 fields, saw 2\\nSkipping line 8585: expected 1 fields, saw 2\\nSkipping line 8594: expected 1 fields, saw 2\\n'\n"
     ]
    }
   ],
   "source": [
    "uk_df = pd.read_table('UK.txt', error_bad_lines=False)"
   ]
  },
  {
   "cell_type": "code",
   "execution_count": 162,
   "metadata": {},
   "outputs": [
    {
     "data": {
      "text/plain": [
       "<bound method NDFrame.describe of                                     Industrial Strategy\n",
       "0                 Building a Britain fit for the future\n",
       "1                       Industrial Strategy White Paper\n",
       "2                                              Contents\n",
       "3                                                     2\n",
       "4                      Foreword from the Prime Minister\n",
       "5     Over the last seven years, we have made huge p...\n",
       "6     We should take enormous pride in these achieve...\n",
       "7     For me it is not enough to see growth in the n...\n",
       "8     local economy is shrinking. It is not ambitiou...\n",
       "9     \n",
       "That is why one of my first actions as Prime ...\n",
       "10    Strategy that would help businesses to create ...\n",
       "11    a vital step in delivering that vision. More t...\n",
       "12                                                    4\n",
       "13    That is exactly what this Industrial Strategy ...\n",
       "14    a partnership between government and industry ...\n",
       "15    and big data to clean energy and self-driving ...\n",
       "16    Two centuries ago it was our industrial revolu...\n",
       "17                                                    \n",
       "\n",
       "18                                   The Prime Minister\n",
       "19                                                    5\n",
       "20                                        Foreword from\n",
       "21                               the Secretary of State\n",
       "22    We are at one of the most important, exciting ...\n",
       "23    Powered by new technologies, the way we live o...\n",
       "24    Britain is extraordinarily well-placed to bene...\n",
       "25    revolution. We are an open enterprising econom...\n",
       "26    and confident place to do business, with high ...\n",
       "27    language, our strong ties, our openness to ide...\n",
       "28    To benefit from the opportunities before us, w...\n",
       "29    \n",
       "More decisions about our economic future will...\n",
       "...                                                 ...\n",
       "3181  Pg106   Secondary school maths pupils, image c...\n",
       "3182  Pg108   New Model in Technology & Engineer- in...\n",
       "3183  Pg120   A technician operating machinery, imag...\n",
       "3184  Pg136 Heathrow Airport, image cred- it: Heathr...\n",
       "3185  Pg139 High Speed 2, image credit: HS2 Ltd Pg14...\n",
       "3186              age credit: Digital Railway Pg162-163\n",
       "3187  Bolton-based manufacturer Pure Fabs, image cre...\n",
       "3188  Savile Row, bespoke tailors Maurice Sed- well,...\n",
       "3189  Cheadle-based business The Urban Bota- nist, i...\n",
       "3190                         Pg186   Port of Felixstowe\n",
       "3191  Pg189   Whisky bottling, image cred- it: Scotc...\n",
       "3192  Pg192 Trent XWB-97 production line in Der- by,...\n",
       "3193  Pg196 A Network Rail engineer, image credit: U...\n",
       "3194                  land, image credit: Nissan Europe\n",
       "3195  Pg212 Citymapper Smartbus, image credit: Gil- ...\n",
       "3196                                        Pg220 Leeds\n",
       "3197  Pg224 Ceramics manufacturing, Stoke on Trent, ...\n",
       "3198  Pg226 Alexandra Docks, Grimsby, image cred- it...\n",
       "3199                                   Pg228 East Devon\n",
       "3200  Pg235 Image credit: Norwich Research Park Pg23...\n",
       "3201  Pg238 image credit: The Oil and Gas Tech- nolo...\n",
       "3202                                   Pg239 Tata Steel\n",
       "3203                                                254\n",
       "3204                                                255\n",
       "3205                    Industrial Strategy White Paper\n",
       "3206                                                256\n",
       "3207                             © Crown copyright 2017\n",
       "3208  This publication is licensed under the terms o...\n",
       "3209  This publication is available from: www.gov.uk...\n",
       "3210  Contact us if you have any enquiries about thi...\n",
       "\n",
       "[3211 rows x 1 columns]>"
      ]
     },
     "execution_count": 162,
     "metadata": {},
     "output_type": "execute_result"
    }
   ],
   "source": [
    "uk_df.describe"
   ]
  },
  {
   "cell_type": "code",
   "execution_count": 163,
   "metadata": {},
   "outputs": [],
   "source": [
    "uk_df.columns = ['text']"
   ]
  },
  {
   "cell_type": "code",
   "execution_count": 164,
   "metadata": {},
   "outputs": [],
   "source": [
    "uk_df['country'] = 'uk'"
   ]
  },
  {
   "cell_type": "code",
   "execution_count": 165,
   "metadata": {},
   "outputs": [
    {
     "data": {
      "text/html": [
       "<div>\n",
       "<style scoped>\n",
       "    .dataframe tbody tr th:only-of-type {\n",
       "        vertical-align: middle;\n",
       "    }\n",
       "\n",
       "    .dataframe tbody tr th {\n",
       "        vertical-align: top;\n",
       "    }\n",
       "\n",
       "    .dataframe thead th {\n",
       "        text-align: right;\n",
       "    }\n",
       "</style>\n",
       "<table border=\"1\" class=\"dataframe\">\n",
       "  <thead>\n",
       "    <tr style=\"text-align: right;\">\n",
       "      <th></th>\n",
       "      <th>text</th>\n",
       "      <th>country</th>\n",
       "    </tr>\n",
       "  </thead>\n",
       "  <tbody>\n",
       "    <tr>\n",
       "      <th>0</th>\n",
       "      <td>Building a Britain fit for the future</td>\n",
       "      <td>uk</td>\n",
       "    </tr>\n",
       "    <tr>\n",
       "      <th>1</th>\n",
       "      <td>Industrial Strategy White Paper</td>\n",
       "      <td>uk</td>\n",
       "    </tr>\n",
       "    <tr>\n",
       "      <th>2</th>\n",
       "      <td>Contents</td>\n",
       "      <td>uk</td>\n",
       "    </tr>\n",
       "    <tr>\n",
       "      <th>3</th>\n",
       "      <td>2</td>\n",
       "      <td>uk</td>\n",
       "    </tr>\n",
       "    <tr>\n",
       "      <th>4</th>\n",
       "      <td>Foreword from the Prime Minister</td>\n",
       "      <td>uk</td>\n",
       "    </tr>\n",
       "  </tbody>\n",
       "</table>\n",
       "</div>"
      ],
      "text/plain": [
       "                                    text country\n",
       "0  Building a Britain fit for the future      uk\n",
       "1        Industrial Strategy White Paper      uk\n",
       "2                               Contents      uk\n",
       "3                                      2      uk\n",
       "4       Foreword from the Prime Minister      uk"
      ]
     },
     "execution_count": 165,
     "metadata": {},
     "output_type": "execute_result"
    }
   ],
   "source": [
    "uk_df.head()\n",
    "# final dataset"
   ]
  },
  {
   "cell_type": "code",
   "execution_count": 166,
   "metadata": {},
   "outputs": [],
   "source": [
    "frames = [uk_df, can_df3]"
   ]
  },
  {
   "cell_type": "code",
   "execution_count": 167,
   "metadata": {},
   "outputs": [],
   "source": [
    "combined = pd.concat(frames)"
   ]
  },
  {
   "cell_type": "code",
   "execution_count": 171,
   "metadata": {},
   "outputs": [
    {
     "data": {
      "text/html": [
       "<div>\n",
       "<style scoped>\n",
       "    .dataframe tbody tr th:only-of-type {\n",
       "        vertical-align: middle;\n",
       "    }\n",
       "\n",
       "    .dataframe tbody tr th {\n",
       "        vertical-align: top;\n",
       "    }\n",
       "\n",
       "    .dataframe thead th {\n",
       "        text-align: right;\n",
       "    }\n",
       "</style>\n",
       "<table border=\"1\" class=\"dataframe\">\n",
       "  <thead>\n",
       "    <tr style=\"text-align: right;\">\n",
       "      <th></th>\n",
       "      <th>text</th>\n",
       "      <th>country</th>\n",
       "    </tr>\n",
       "  </thead>\n",
       "  <tbody>\n",
       "    <tr>\n",
       "      <th>count</th>\n",
       "      <td>11111</td>\n",
       "      <td>11414</td>\n",
       "    </tr>\n",
       "    <tr>\n",
       "      <th>unique</th>\n",
       "      <td>6966</td>\n",
       "      <td>2</td>\n",
       "    </tr>\n",
       "    <tr>\n",
       "      <th>top</th>\n",
       "      <td>0</td>\n",
       "      <td>canada</td>\n",
       "    </tr>\n",
       "    <tr>\n",
       "      <th>freq</th>\n",
       "      <td>452</td>\n",
       "      <td>8203</td>\n",
       "    </tr>\n",
       "  </tbody>\n",
       "</table>\n",
       "</div>"
      ],
      "text/plain": [
       "         text country\n",
       "count   11111   11414\n",
       "unique   6966       2\n",
       "top         0  canada\n",
       "freq      452    8203"
      ]
     },
     "execution_count": 171,
     "metadata": {},
     "output_type": "execute_result"
    }
   ],
   "source": [
    "combined.describe()"
   ]
  },
  {
   "cell_type": "code",
   "execution_count": 176,
   "metadata": {},
   "outputs": [
    {
     "data": {
      "text/html": [
       "<div>\n",
       "<style scoped>\n",
       "    .dataframe tbody tr th:only-of-type {\n",
       "        vertical-align: middle;\n",
       "    }\n",
       "\n",
       "    .dataframe tbody tr th {\n",
       "        vertical-align: top;\n",
       "    }\n",
       "\n",
       "    .dataframe thead tr th {\n",
       "        text-align: left;\n",
       "    }\n",
       "\n",
       "    .dataframe thead tr:last-of-type th {\n",
       "        text-align: right;\n",
       "    }\n",
       "</style>\n",
       "<table border=\"1\" class=\"dataframe\">\n",
       "  <thead>\n",
       "    <tr>\n",
       "      <th></th>\n",
       "      <th colspan=\"4\" halign=\"left\">text</th>\n",
       "    </tr>\n",
       "    <tr>\n",
       "      <th></th>\n",
       "      <th>count</th>\n",
       "      <th>unique</th>\n",
       "      <th>top</th>\n",
       "      <th>freq</th>\n",
       "    </tr>\n",
       "    <tr>\n",
       "      <th>country</th>\n",
       "      <th></th>\n",
       "      <th></th>\n",
       "      <th></th>\n",
       "      <th></th>\n",
       "    </tr>\n",
       "  </thead>\n",
       "  <tbody>\n",
       "    <tr>\n",
       "      <th>canada</th>\n",
       "      <td>7900</td>\n",
       "      <td>4233</td>\n",
       "      <td>0</td>\n",
       "      <td>447</td>\n",
       "    </tr>\n",
       "    <tr>\n",
       "      <th>uk</th>\n",
       "      <td>3211</td>\n",
       "      <td>2939</td>\n",
       "      <td>Industrial Strategy White Paper</td>\n",
       "      <td>51</td>\n",
       "    </tr>\n",
       "  </tbody>\n",
       "</table>\n",
       "</div>"
      ],
      "text/plain": [
       "         text                                             \n",
       "        count unique                              top freq\n",
       "country                                                   \n",
       "canada   7900   4233                                0  447\n",
       "uk       3211   2939  Industrial Strategy White Paper   51"
      ]
     },
     "execution_count": 176,
     "metadata": {},
     "output_type": "execute_result"
    }
   ],
   "source": [
    "combined.groupby('country').describe()"
   ]
  },
  {
   "cell_type": "code",
   "execution_count": 177,
   "metadata": {},
   "outputs": [],
   "source": [
    "nlp = spacy.load('en')\n",
    "corpus = st.CorpusFromPandas(combined,\n",
    "                            category_col='country',\n",
    "                            text_col='text',\n",
    "                            nlp=nlp).build()"
   ]
  },
  {
   "cell_type": "code",
   "execution_count": 178,
   "metadata": {},
   "outputs": [
    {
     "data": {
      "text/plain": [
       "1946068"
      ]
     },
     "execution_count": 178,
     "metadata": {},
     "output_type": "execute_result"
    }
   ],
   "source": [
    "html = st.produce_scattertext_explorer(corpus, \n",
    "                                     category='canada',\n",
    "                                     category_name='Canada',\n",
    "                                       not_category_name='UK',\n",
    "                                     width_in_pixels=1000)\n",
    "open(\"PolicyVis.html\", 'wb').write(html.encode('utf-8'))"
   ]
  },
  {
   "cell_type": "code",
   "execution_count": 179,
   "metadata": {},
   "outputs": [],
   "source": [
    "combined2 = combined"
   ]
  },
  {
   "cell_type": "code",
   "execution_count": 180,
   "metadata": {},
   "outputs": [],
   "source": [
    "from gensim.parsing.preprocessing import preprocess_documents"
   ]
  },
  {
   "cell_type": "code",
   "execution_count": 182,
   "metadata": {},
   "outputs": [
    {
     "data": {
      "text/plain": [
       "[['text'], ['countri']]"
      ]
     },
     "execution_count": 182,
     "metadata": {},
     "output_type": "execute_result"
    }
   ],
   "source": [
    "preprocess_documents(combined2)"
   ]
  },
  {
   "cell_type": "code",
   "execution_count": 183,
   "metadata": {
    "scrolled": true
   },
   "outputs": [
    {
     "data": {
      "text/html": [
       "<div>\n",
       "<style scoped>\n",
       "    .dataframe tbody tr th:only-of-type {\n",
       "        vertical-align: middle;\n",
       "    }\n",
       "\n",
       "    .dataframe tbody tr th {\n",
       "        vertical-align: top;\n",
       "    }\n",
       "\n",
       "    .dataframe thead th {\n",
       "        text-align: right;\n",
       "    }\n",
       "</style>\n",
       "<table border=\"1\" class=\"dataframe\">\n",
       "  <thead>\n",
       "    <tr style=\"text-align: right;\">\n",
       "      <th></th>\n",
       "      <th>text</th>\n",
       "      <th>country</th>\n",
       "    </tr>\n",
       "  </thead>\n",
       "  <tbody>\n",
       "    <tr>\n",
       "      <th>0</th>\n",
       "      <td>Building a Britain fit for the future</td>\n",
       "      <td>uk</td>\n",
       "    </tr>\n",
       "    <tr>\n",
       "      <th>1</th>\n",
       "      <td>Industrial Strategy White Paper</td>\n",
       "      <td>uk</td>\n",
       "    </tr>\n",
       "    <tr>\n",
       "      <th>2</th>\n",
       "      <td>Contents</td>\n",
       "      <td>uk</td>\n",
       "    </tr>\n",
       "    <tr>\n",
       "      <th>3</th>\n",
       "      <td>2</td>\n",
       "      <td>uk</td>\n",
       "    </tr>\n",
       "    <tr>\n",
       "      <th>4</th>\n",
       "      <td>Foreword from the Prime Minister</td>\n",
       "      <td>uk</td>\n",
       "    </tr>\n",
       "  </tbody>\n",
       "</table>\n",
       "</div>"
      ],
      "text/plain": [
       "                                    text country\n",
       "0  Building a Britain fit for the future      uk\n",
       "1        Industrial Strategy White Paper      uk\n",
       "2                               Contents      uk\n",
       "3                                      2      uk\n",
       "4       Foreword from the Prime Minister      uk"
      ]
     },
     "execution_count": 183,
     "metadata": {},
     "output_type": "execute_result"
    }
   ],
   "source": [
    "combined2.head()"
   ]
  },
  {
   "cell_type": "code",
   "execution_count": 194,
   "metadata": {},
   "outputs": [],
   "source": [
    "#preprocessing text - remove page numbers, remove pluralised words, punctuation\n",
    "combined2['text'] = combined2['text'].str.replace('[^\\W\\S]', '')"
   ]
  },
  {
   "cell_type": "code",
   "execution_count": 202,
   "metadata": {},
   "outputs": [
    {
     "ename": "SyntaxError",
     "evalue": "invalid syntax (<ipython-input-202-0826e909d3a4>, line 9)",
     "output_type": "error",
     "traceback": [
      "\u001b[0;36m  File \u001b[0;32m\"<ipython-input-202-0826e909d3a4>\"\u001b[0;36m, line \u001b[0;32m9\u001b[0m\n\u001b[0;31m    combined3 = combined2(columns=[:,'text'])\u001b[0m\n\u001b[0m                                   ^\u001b[0m\n\u001b[0;31mSyntaxError\u001b[0m\u001b[0;31m:\u001b[0m invalid syntax\n"
     ]
    }
   ],
   "source": [
    "def lemmatize_stemming(text):\n",
    "    return stemmer.stem(WordNetLemmatizer().lemmatize(text, pos='v'))"
   ]
  },
  {
   "cell_type": "code",
   "execution_count": 199,
   "metadata": {},
   "outputs": [
    {
     "data": {
      "text/html": [
       "<div>\n",
       "<style scoped>\n",
       "    .dataframe tbody tr th:only-of-type {\n",
       "        vertical-align: middle;\n",
       "    }\n",
       "\n",
       "    .dataframe tbody tr th {\n",
       "        vertical-align: top;\n",
       "    }\n",
       "\n",
       "    .dataframe thead th {\n",
       "        text-align: right;\n",
       "    }\n",
       "</style>\n",
       "<table border=\"1\" class=\"dataframe\">\n",
       "  <thead>\n",
       "    <tr style=\"text-align: right;\">\n",
       "      <th></th>\n",
       "      <th>text</th>\n",
       "      <th>country</th>\n",
       "    </tr>\n",
       "  </thead>\n",
       "  <tbody>\n",
       "    <tr>\n",
       "      <th>count</th>\n",
       "      <td>11111</td>\n",
       "      <td>11414</td>\n",
       "    </tr>\n",
       "    <tr>\n",
       "      <th>unique</th>\n",
       "      <td>6966</td>\n",
       "      <td>2</td>\n",
       "    </tr>\n",
       "    <tr>\n",
       "      <th>top</th>\n",
       "      <td>0</td>\n",
       "      <td>canada</td>\n",
       "    </tr>\n",
       "    <tr>\n",
       "      <th>freq</th>\n",
       "      <td>452</td>\n",
       "      <td>8203</td>\n",
       "    </tr>\n",
       "  </tbody>\n",
       "</table>\n",
       "</div>"
      ],
      "text/plain": [
       "         text country\n",
       "count   11111   11414\n",
       "unique   6966       2\n",
       "top         0  canada\n",
       "freq      452    8203"
      ]
     },
     "execution_count": 199,
     "metadata": {},
     "output_type": "execute_result"
    }
   ],
   "source": [
    "combined2.describe()"
   ]
  },
  {
   "cell_type": "code",
   "execution_count": 200,
   "metadata": {},
   "outputs": [
    {
     "data": {
      "text/plain": [
       "1946068"
      ]
     },
     "execution_count": 200,
     "metadata": {},
     "output_type": "execute_result"
    }
   ],
   "source": [
    "nlp = spacy.load('en')\n",
    "corpus = st.CorpusFromPandas(combined2,\n",
    "                            category_col='country',\n",
    "                            text_col='text',\n",
    "                            nlp=nlp).build()\n",
    "\n",
    "html = st.produce_scattertext_explorer(corpus, \n",
    "                                     category='canada',\n",
    "                                     category_name='Canada',\n",
    "                                       not_category_name='UK',\n",
    "                                     width_in_pixels=1000)\n",
    "open(\"PolicyVis2.html\", 'wb').write(html.encode('utf-8'))"
   ]
  },
  {
   "cell_type": "code",
   "execution_count": 204,
   "metadata": {},
   "outputs": [
    {
     "data": {
      "text/plain": [
       "2123716"
      ]
     },
     "execution_count": 204,
     "metadata": {},
     "output_type": "execute_result"
    }
   ],
   "source": [
    "feat_builder = st.FeatsFromOnlyEmpath()\n",
    "empath_corpus = st.CorpusFromParsedDocuments(combined2,\n",
    "                                             category_col='country',\n",
    "                                             feats_from_spacy_doc=feat_builder,\n",
    "                                             parsed_col='text').build()\n",
    "html = st.produce_scattertext_explorer(empath_corpus,\n",
    "                                        category='canada',\n",
    "                                        category_name='Canada',\n",
    "                                        not_category_name='UK',\n",
    "                                        width_in_pixels=1000,\n",
    "                                        use_non_text_features=True,\n",
    "                                        use_full_doc=True,\n",
    "                                        topic_model_term_lists=feat_builder.get_top_model_term_lists())\n",
    "open(\"Convention-Visualization-Empath.html\", 'wb').write(html.encode('utf-8'))"
   ]
  },
  {
   "cell_type": "code",
   "execution_count": 205,
   "metadata": {},
   "outputs": [
    {
     "name": "stderr",
     "output_type": "stream",
     "text": [
      "/Users/cmtippett/anaconda3/lib/python3.6/site-packages/scattertext/TermDocMatrixFilter.py:43: RuntimeWarning: invalid value encountered in log\n",
      "  bigram_prob[bigram] / np.product([unigram_prob[word] for word in bigram.split(' ')])\n"
     ]
    },
    {
     "data": {
      "text/plain": [
       "2948771"
      ]
     },
     "execution_count": 205,
     "metadata": {},
     "output_type": "execute_result"
    }
   ],
   "source": [
    "from scattertext import word_similarity_explorer\n",
    "html = word_similarity_explorer(corpus,\n",
    "                                 category='canada',\n",
    "                                 category_name='Canada',\n",
    "                                 not_category_name='UK',\n",
    "                                 target_term='jobs',\n",
    "                                 minimum_term_frequency=5,\n",
    "                                 pmi_threshold_coefficient=4,\n",
    "                                 width_in_pixels=1000,\n",
    "                                 alpha=0.01,\n",
    "                                 max_p_val=0.05,\n",
    "                                 save_svg_button=True)\n",
    "open(\"Convention-Visualization-Jobs.html\", 'wb').write(html.encode('utf-8'))"
   ]
  },
  {
   "cell_type": "code",
   "execution_count": 206,
   "metadata": {},
   "outputs": [
    {
     "name": "stderr",
     "output_type": "stream",
     "text": [
      "/Users/cmtippett/anaconda3/lib/python3.6/site-packages/scattertext/TermDocMatrixFilter.py:43: RuntimeWarning: invalid value encountered in log\n",
      "  bigram_prob[bigram] / np.product([unigram_prob[word] for word in bigram.split(' ')])\n"
     ]
    },
    {
     "data": {
      "text/plain": [
       "2910192"
      ]
     },
     "execution_count": 206,
     "metadata": {},
     "output_type": "execute_result"
    }
   ],
   "source": [
    "from scattertext import word_similarity_explorer\n",
    "html = word_similarity_explorer(corpus,\n",
    "                                 category='canada',\n",
    "                                 category_name='Canada',\n",
    "                                 not_category_name='UK',\n",
    "                                 target_term='innovation',\n",
    "                                 minimum_term_frequency=5,\n",
    "                                 pmi_threshold_coefficient=4,\n",
    "                                 width_in_pixels=1000,\n",
    "                                 alpha=0.01,\n",
    "                                 max_p_val=0.05,\n",
    "                                 save_svg_button=True)\n",
    "open(\"Convention-Visualization-Innovation.html\", 'wb').write(html.encode('utf-8'))"
   ]
  },
  {
   "cell_type": "code",
   "execution_count": null,
   "metadata": {},
   "outputs": [],
   "source": []
  }
 ],
 "metadata": {
  "kernelspec": {
   "display_name": "Python 3",
   "language": "python",
   "name": "python3"
  },
  "language_info": {
   "codemirror_mode": {
    "name": "ipython",
    "version": 3
   },
   "file_extension": ".py",
   "mimetype": "text/x-python",
   "name": "python",
   "nbconvert_exporter": "python",
   "pygments_lexer": "ipython3",
   "version": "3.6.4"
  }
 },
 "nbformat": 4,
 "nbformat_minor": 2
}
